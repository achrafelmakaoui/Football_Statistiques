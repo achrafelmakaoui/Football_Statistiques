{
 "cells": [
  {
   "cell_type": "code",
   "execution_count": 6,
   "metadata": {},
   "outputs": [
    {
     "name": "stdout",
     "output_type": "stream",
     "text": [
      "(20, 16)\n",
      "[['Ajaccio' '3' '3' '9' '14' '24' '214' '4307' '3' '23' '0' '1' '5' '3'\n",
      "  '3' '2']\n",
      " ['Angers' '2' '2' '11' '15' '34' '188' '5159' '3' '17' '2' '1' '2' '2'\n",
      "  '4' '4']\n",
      " ['Auxerre' '3' '4' '8' '14' '31' '164' '5134' '2' '23' '3' '1' '2' '1'\n",
      "  '3' '4']\n",
      " ['Brest' '3' '4' '8' '16' '28' '197' '4912' '4' '26' '3' '2' '1' '3' '5'\n",
      "  '2']\n",
      " ['Clermont' '5' '4' '6' '19' '23' '158' '5514' '2' '25' '3' '0' '1' '6'\n",
      "  '4' '5']\n",
      " ['Lens' '11' '3' '1' '26' '10' '216' '6766' '4' '19' '1' '4' '2' '5' '6'\n",
      "  '8']\n",
      " ['Lille' '8' '2' '5' '27' '23' '209' '6751' '2' '24' '4' '4' '7' '3' '4'\n",
      "  '5']\n",
      " ['Lorient' '8' '4' '3' '26' '21' '144' '4939' '2' '19' '5' '4' '5' '7'\n",
      "  '2' '3']\n",
      " ['Lyon' '6' '3' '6' '23' '18' '182' '7240' '5' '23' '3' '4' '3' '3' '5'\n",
      "  '5']\n",
      " ['Marseille' '9' '3' '3' '26' '13' '219' '6146' '4' '20' '5' '1' '8' '4'\n",
      "  '3' '5']\n",
      " ['Monaco' '8' '3' '4' '29' '21' '195' '4987' '8' '26' '3' '2' '7' '7'\n",
      "  '7' '3']\n",
      " ['Montpellier' '4' '2' '9' '24' '29' '180' '4437' '2' '31' '8' '4' '2'\n",
      "  '1' '3' '6']\n",
      " ['Nantes' '2' '7' '6' '17' '24' '190' '4908' '3' '19' '1' '1' '2' '3'\n",
      "  '4' '6']\n",
      " ['Nice' '5' '5' '5' '15' '17' '143' '6531' '1' '27' '1' '3' '3' '3' '3'\n",
      "  '2']\n",
      " ['PSG' '13' '2' '0' '43' '9' '157' '8797' '4' '36' '5' '7' '7' '7' '5'\n",
      "  '12']\n",
      " ['Reims' '3' '8' '4' '16' '21' '203' '4052' '2' '28' '1' '5' '1' '1' '2'\n",
      "  '6']\n",
      " ['Rennes' '9' '4' '2' '31' '14' '193' '6550' '7' '24' '2' '5' '3' '8'\n",
      "  '3' '10']\n",
      " ['Strasbourg' '1' '8' '6' '17' '26' '196' '5320' '3' '19' '2' '3' '2'\n",
      "  '2' '4' '4']\n",
      " ['Toulouse' '4' '4' '7' '20' '27' '187' '5248' '0' '31' '2' '3' '6' '5'\n",
      "  '3' '1']\n",
      " ['Troyes' '3' '5' '7' '26' '31' '159' '4818' '2' '23' '4' '4' '3' '5'\n",
      "  '2' '8']]\n"
     ]
    }
   ],
   "source": [
    "import numpy as np\n",
    "## creation de ndarray et importation de donnees, verification\n",
    "file_path='C:/Users/Achraf/Desktop/Python Big Data/STATISTIQUES_EQUIPE_LIGUE1.csv'\n",
    "nd_array_data = np.loadtxt(file_path, delimiter=';', dtype=str, skiprows=1)\n",
    "print(nd_array_data.shape)\n",
    "print(nd_array_data)"
   ]
  },
  {
   "cell_type": "code",
   "execution_count": 11,
   "metadata": {},
   "outputs": [
    {
     "name": "stdout",
     "output_type": "stream",
     "text": [
      "Moyen de buts par match : 2.96\n"
     ]
    }
   ],
   "source": [
    "# le nombre moyen de buts par match\n",
    "nbr_equip=nd_array_data.shape[0]\n",
    "nbr_match=(nd_array_data[:,1].astype(int) + nd_array_data[:,2].astype(int) + nd_array_data[:,3].astype(int))\n",
    "moyenne_buts_par_match = sum(nd_array_data[:,4].astype(int)) / (nbr_equip*nbr_match/2)\n",
    "print(\"Moyen de buts par match :\", moyenne_buts_par_match.mean())"
   ]
  },
  {
   "cell_type": "code",
   "execution_count": 12,
   "metadata": {},
   "outputs": [
    {
     "name": "stdout",
     "output_type": "stream",
     "text": [
      "Valeur moyenne du nombre de points : 20.5\n"
     ]
    }
   ],
   "source": [
    "moyenne_points = ((3 * nd_array_data[:,1].astype(int)) + nd_array_data[:,2].astype(int))\n",
    "print(\"Valeur moyenne du nombre de points :\", np.mean(moyenne_points))"
   ]
  },
  {
   "cell_type": "code",
   "execution_count": 16,
   "metadata": {},
   "outputs": [
    {
     "name": "stdout",
     "output_type": "stream",
     "text": [
      "équipe a le plus grand nombre de victoires:['PSG'] avec 13 point\n"
     ]
    }
   ],
   "source": [
    "# équipe a le plus grand nombre de victoires\n",
    "max_V=np.amax(nd_array_data[:,1].astype(int))\n",
    "eq_max_vict = np.array([element[0] for element in nd_array_data if np.int32(element[1]) == max_V])\n",
    "print(f'équipe a le plus grand nombre de victoires:{eq_max_vict} avec {max_V} point')"
   ]
  },
  {
   "cell_type": "code",
   "execution_count": 18,
   "metadata": {},
   "outputs": [
    {
     "name": "stdout",
     "output_type": "stream",
     "text": [
      "le club ayant inscrit le plus grand nombre de buts:['PSG'] avec 43\n"
     ]
    }
   ],
   "source": [
    "# le club ayant inscrit le plus grand nombre de buts\n",
    "max_BM=np.amax(nd_array_data[:,4].astype(int))\n",
    "eq_max_BMPE = np.array([element[0] for element in nd_array_data if np.int32(element[4]) == max_BM])\n",
    "print(f'le club ayant inscrit le plus grand nombre de buts:{eq_max_BMPE} avec {max_BM}')"
   ]
  },
  {
   "cell_type": "code",
   "execution_count": 20,
   "metadata": {},
   "outputs": [
    {
     "name": "stdout",
     "output_type": "stream",
     "text": [
      "le club ayant inscrit le plus grand nombre de hors jeu:['PSG'] avec 36 Hors Jeu\n"
     ]
    }
   ],
   "source": [
    "max_HJ=np.amax(nd_array_data[:,9].astype(int))\n",
    "eq_max_HJE = np.array([element[0] for element in nd_array_data if np.int32(element[9]) == max_HJ])\n",
    "print(f'le club ayant inscrit le plus grand nombre de hors jeu:{eq_max_HJE} avec {max_HJ} Hors Jeu')\n"
   ]
  },
  {
   "cell_type": "code",
   "execution_count": 23,
   "metadata": {},
   "outputs": [
    {
     "name": "stdout",
     "output_type": "stream",
     "text": [
      "équipe possède la meilleure attaque:['PSG'] avec 2.8666666666666667\n",
      "équipe possède la meilleure defence:['PSG'] avec 0.6\n"
     ]
    }
   ],
   "source": [
    "# équipe possède la meilleure attaque\n",
    "max_BM=np.amax(nd_array_data[:,4].astype(int))\n",
    "total_match=nd_array_data[:,1].astype(int) + nd_array_data[:,2].astype(int) + nd_array_data[:,3].astype(int)\n",
    "equipe_meill_att = np.array([element[0] for element in nd_array_data if np.int32(element[4]) == max_BM])\n",
    "meilleure_attaque=max_BM/total_match\n",
    "print(f'équipe possède la meilleure attaque:{equipe_meill_att} avec {max(meilleure_attaque)}')\n",
    "# équipe possède la meilleure defense\n",
    "max_def=np.amin(nd_array_data[:,5].astype(int))\n",
    "equipe_meill_def = np.array([element[0] for element in nd_array_data if np.int32(element[5]) == max_def])\n",
    "meilleure_defence=max_def/total_match\n",
    "print(f'équipe possède la meilleure defence:{equipe_meill_def} avec {min(meilleure_defence)}')"
   ]
  },
  {
   "cell_type": "code",
   "execution_count": 24,
   "metadata": {},
   "outputs": [
    {
     "name": "stdout",
     "output_type": "stream",
     "text": [
      "le nombre des equipe est :  12\n",
      "voici les équipes:\n",
      "['Ajaccio' 'Angers' 'Auxerre' 'Brest' 'Clermont' 'Montpellier' 'Nantes'\n",
      " 'Nice' 'Reims' 'Strasbourg' 'Toulouse' 'Troyes']\n"
     ]
    }
   ],
   "source": [
    "# le nombre des équipes dont le nombre de buts marqués est inférieur à celui encaissés\n",
    "ButsPour = nd_array_data[:,4].astype(int)\n",
    "ButsContre = nd_array_data[:,5].astype(int)\n",
    "index_equipe = np.where(ButsPour < ButsContre )[0]\n",
    "print(\"le nombre des equipe est : \",len(index_equipe))\n",
    "# afficher le nom de ces équipes\n",
    "print(\"voici les équipes:\")\n",
    "print(nd_array_data[index_equipe,0])"
   ]
  },
  {
   "cell_type": "code",
   "execution_count": 25,
   "metadata": {},
   "outputs": [
    {
     "name": "stdout",
     "output_type": "stream",
     "text": [
      "Pour l'equipe Ajaccio la difference est : -10\n",
      "Pour l'equipe Angers la difference est : -19\n",
      "Pour l'equipe Auxerre la difference est : -17\n",
      "Pour l'equipe Brest la difference est : -12\n",
      "Pour l'equipe Clermont la difference est : -4\n",
      "Pour l'equipe Lens la difference est : 16\n",
      "Pour l'equipe Lille la difference est : 4\n",
      "Pour l'equipe Lorient la difference est : 5\n",
      "Pour l'equipe Lyon la difference est : 5\n",
      "Pour l'equipe Marseille la difference est : 13\n",
      "Pour l'equipe Monaco la difference est : 8\n",
      "Pour l'equipe Montpellier la difference est : -5\n",
      "Pour l'equipe Nantes la difference est : -7\n",
      "Pour l'equipe Nice la difference est : -2\n",
      "Pour l'equipe PSG la difference est : 34\n",
      "Pour l'equipe Reims la difference est : -5\n",
      "Pour l'equipe Rennes la difference est : 17\n",
      "Pour l'equipe Strasbourg la difference est : -9\n",
      "Pour l'equipe Toulouse la difference est : -7\n",
      "Pour l'equipe Troyes la difference est : -5\n"
     ]
    }
   ],
   "source": [
    "# la différence de buts (buts pour - buts contre)\n",
    "ButsPour = nd_array_data[:,4].astype(int)\n",
    "ButsContre = nd_array_data[:,5].astype(int)\n",
    "\n",
    "différence_de_buts= ButsPour - ButsContre\n",
    "equipe = nd_array_data[:,0]\n",
    "for i in range(len(equipe)):\n",
    "    print(f\"Pour l'equipe {equipe[i]} la difference est : {différence_de_buts[i]}\")"
   ]
  },
  {
   "cell_type": "code",
   "execution_count": 35,
   "metadata": {},
   "outputs": [
    {
     "name": "stdout",
     "output_type": "stream",
     "text": [
      "Ajaccio ==> 0-15 : 0.00% | 16-30 : 6.67% | 31-45: 33.33% | 46-60: 20.00% | 61-75: 20.00% | 76-90: 13.33%\n",
      "Angers ==> 0-15 : 13.33% | 16-30 : 6.67% | 31-45: 13.33% | 46-60: 13.33% | 61-75: 26.67% | 76-90: 26.67%\n",
      "Auxerre ==> 0-15 : 20.00% | 16-30 : 6.67% | 31-45: 13.33% | 46-60: 6.67% | 61-75: 20.00% | 76-90: 26.67%\n",
      "Brest ==> 0-15 : 20.00% | 16-30 : 13.33% | 31-45: 6.67% | 46-60: 20.00% | 61-75: 33.33% | 76-90: 13.33%\n",
      "Clermont ==> 0-15 : 20.00% | 16-30 : 0.00% | 31-45: 6.67% | 46-60: 40.00% | 61-75: 26.67% | 76-90: 33.33%\n",
      "Lens ==> 0-15 : 6.67% | 16-30 : 26.67% | 31-45: 13.33% | 46-60: 33.33% | 61-75: 40.00% | 76-90: 53.33%\n",
      "Lille ==> 0-15 : 26.67% | 16-30 : 26.67% | 31-45: 46.67% | 46-60: 20.00% | 61-75: 26.67% | 76-90: 33.33%\n",
      "Lorient ==> 0-15 : 33.33% | 16-30 : 26.67% | 31-45: 33.33% | 46-60: 46.67% | 61-75: 13.33% | 76-90: 20.00%\n",
      "Lyon ==> 0-15 : 20.00% | 16-30 : 26.67% | 31-45: 20.00% | 46-60: 20.00% | 61-75: 33.33% | 76-90: 33.33%\n",
      "Marseille ==> 0-15 : 33.33% | 16-30 : 6.67% | 31-45: 53.33% | 46-60: 26.67% | 61-75: 20.00% | 76-90: 33.33%\n",
      "Monaco ==> 0-15 : 20.00% | 16-30 : 13.33% | 31-45: 46.67% | 46-60: 46.67% | 61-75: 46.67% | 76-90: 20.00%\n",
      "Montpellier ==> 0-15 : 53.33% | 16-30 : 26.67% | 31-45: 13.33% | 46-60: 6.67% | 61-75: 20.00% | 76-90: 40.00%\n",
      "Nantes ==> 0-15 : 6.67% | 16-30 : 6.67% | 31-45: 13.33% | 46-60: 20.00% | 61-75: 26.67% | 76-90: 40.00%\n",
      "Nice ==> 0-15 : 6.67% | 16-30 : 20.00% | 31-45: 20.00% | 46-60: 20.00% | 61-75: 20.00% | 76-90: 13.33%\n",
      "PSG ==> 0-15 : 33.33% | 16-30 : 46.67% | 31-45: 46.67% | 46-60: 46.67% | 61-75: 33.33% | 76-90: 80.00%\n",
      "Reims ==> 0-15 : 6.67% | 16-30 : 33.33% | 31-45: 6.67% | 46-60: 6.67% | 61-75: 13.33% | 76-90: 40.00%\n",
      "Rennes ==> 0-15 : 13.33% | 16-30 : 33.33% | 31-45: 20.00% | 46-60: 53.33% | 61-75: 20.00% | 76-90: 66.67%\n",
      "Strasbourg ==> 0-15 : 13.33% | 16-30 : 20.00% | 31-45: 13.33% | 46-60: 13.33% | 61-75: 26.67% | 76-90: 26.67%\n",
      "Toulouse ==> 0-15 : 13.33% | 16-30 : 20.00% | 31-45: 40.00% | 46-60: 33.33% | 61-75: 20.00% | 76-90: 6.67%\n",
      "Troyes ==> 0-15 : 26.67% | 16-30 : 26.67% | 31-45: 20.00% | 46-60: 33.33% | 61-75: 13.33% | 76-90: 53.33%\n"
     ]
    }
   ],
   "source": [
    "# créneau horaire le pourcentage de buts marqués pour chaque club\n",
    "créneau_horaire=nd_array_data[:,10:16].astype(int)\n",
    "total_match=(nd_array_data[:,1].astype(int) + nd_array_data[:,2].astype(int) + nd_array_data[:,3].astype(int))\n",
    "total_match = total_match.reshape(-1, 1)\n",
    "porcentage_eq=(créneau_horaire/total_match)*100\n",
    "for i in range(len(equipe)):\n",
    "    print(f'{equipe[i]} ==> 0-15 : {porcentage_eq[i][0]:.2f}% | 16-30 : {porcentage_eq[i][1]:.2f}% | 31-45: {porcentage_eq[i][2]:.2f}% | 46-60: {porcentage_eq[i][3]:.2f}% | 61-75: {porcentage_eq[i][4]:.2f}% | 76-90: {porcentage_eq[i][5]:.2f}%')\n"
   ]
  },
  {
   "cell_type": "code",
   "execution_count": 81,
   "metadata": {},
   "outputs": [
    {
     "name": "stdout",
     "output_type": "stream",
     "text": [
      "[['Ajaccio' '12' '3' '3' '9' '14' '24' '-10' '23' '0.93' '1.6' '0.0'\n",
      "  '6.67' '33.33' '20.0' '20.0' '13.33']\n",
      " ['Angers' '8' '2' '2' '11' '15' '34' '-19' '17' '1.0' '2.27' '13.33'\n",
      "  '6.67' '13.33' '13.33' '26.67' '26.67']\n",
      " ['Auxerre' '13' '3' '4' '8' '14' '31' '-17' '23' '0.93' '2.07' '20.0'\n",
      "  '6.67' '13.33' '6.67' '20.0' '26.67']\n",
      " ['Brest' '13' '3' '4' '8' '16' '28' '-12' '26' '1.07' '1.87' '20.0'\n",
      "  '13.33' '6.67' '20.0' '33.33' '13.33']\n",
      " ['Clermont' '19' '5' '4' '6' '19' '23' '-4' '25' '1.27' '1.53' '20.0'\n",
      "  '0.0' '6.67' '40.0' '26.67' '33.33']\n",
      " ['Lens' '36' '11' '3' '1' '26' '10' '16' '19' '1.73' '0.67' '6.67'\n",
      "  '26.67' '13.33' '33.33' '40.0' '53.33']\n",
      " ['Lille' '26' '8' '2' '5' '27' '23' '4' '24' '1.8' '1.53' '26.67'\n",
      "  '26.67' '46.67' '20.0' '26.67' '33.33']\n",
      " ['Lorient' '28' '8' '4' '3' '26' '21' '5' '19' '1.73' '1.4' '33.33'\n",
      "  '26.67' '33.33' '46.67' '13.33' '20.0']\n",
      " ['Lyon' '21' '6' '3' '6' '23' '18' '5' '23' '1.53' '1.2' '20.0' '26.67'\n",
      "  '20.0' '20.0' '33.33' '33.33']\n",
      " ['Marseille' '30' '9' '3' '3' '26' '13' '13' '20' '1.73' '0.87' '33.33'\n",
      "  '6.67' '53.33' '26.67' '20.0' '33.33']\n",
      " ['Monaco' '27' '8' '3' '4' '29' '21' '8' '26' '1.93' '1.4' '20.0'\n",
      "  '13.33' '46.67' '46.67' '46.67' '20.0']\n",
      " ['Montpellier' '14' '4' '2' '9' '24' '29' '-5' '31' '1.6' '1.93' '53.33'\n",
      "  '26.67' '13.33' '6.67' '20.0' '40.0']\n",
      " ['Nantes' '13' '2' '7' '6' '17' '24' '-7' '19' '1.13' '1.6' '6.67'\n",
      "  '6.67' '13.33' '20.0' '26.67' '40.0']\n",
      " ['Nice' '20' '5' '5' '5' '15' '17' '-2' '27' '1.0' '1.13' '6.67' '20.0'\n",
      "  '20.0' '20.0' '20.0' '13.33']\n",
      " ['PSG' '41' '13' '2' '0' '43' '9' '34' '36' '2.87' '0.6' '33.33' '46.67'\n",
      "  '46.67' '46.67' '33.33' '80.0']\n",
      " ['Reims' '17' '3' '8' '4' '16' '21' '-5' '28' '1.07' '1.4' '6.67'\n",
      "  '33.33' '6.67' '6.67' '13.33' '40.0']\n",
      " ['Rennes' '31' '9' '4' '2' '31' '14' '17' '24' '2.07' '0.93' '13.33'\n",
      "  '33.33' '20.0' '53.33' '20.0' '66.67']\n",
      " ['Strasbourg' '11' '1' '8' '6' '17' '26' '-9' '19' '1.13' '1.73' '13.33'\n",
      "  '20.0' '13.33' '13.33' '26.67' '26.67']\n",
      " ['Toulouse' '16' '4' '4' '7' '20' '27' '-7' '31' '1.33' '1.8' '13.33'\n",
      "  '20.0' '40.0' '33.33' '20.0' '6.67']\n",
      " ['Troyes' '14' '3' '5' '7' '26' '31' '-5' '23' '1.73' '2.07' '26.67'\n",
      "  '26.67' '20.0' '33.33' '13.33' '53.33']]\n"
     ]
    }
   ],
   "source": [
    "tb_join = np.array(['Club','Points', 'Victoires', 'Nuls', 'Defaites', 'ButsPour', 'ButsContre', 'Difference',\n",
    "                          'HorsJeux', 'ButsParMatch', 'ButsEncaissesParMatch', '%_0-15',\t'%_16-30',\t'%_31-45',\t'%_46-60',\n",
    "                          '%_61-75'\t,'%_76-90'])\n",
    "# moyenne butes par match par equipe\n",
    "tot_buts = nd_array_data[:,4].astype(int)\n",
    "bm_eq = np.round((tot_buts / 15), 2)\n",
    "# moyenne butes encaisse par match par equipe\n",
    "tot_buts_enc = nd_array_data[:,5].astype(int)\n",
    "be_ep = np.round((total_buts_enc / 15),2)\n",
    "# créneau horaire le pourcentage de buts marqués pour chaque club\n",
    "cre_h=nd_array_data[:,10:16].astype(int)\n",
    "prctg_c_rt=(cre_h/15)*100\n",
    "prcntg_cren_res=np.round((prctg_c_rt),2)\n",
    "res_array = np.column_stack((\n",
    "    nd_array_data[:, 0], \n",
    "    moyenne_points,\n",
    "    nd_array_data[:, 1:6], \n",
    "    différence_de_buts, \n",
    "    nd_array_data[:, 9], \n",
    "    but_par_match_par_eqp, \n",
    "    but_encaisse_par_match_par_eqp, \n",
    "    pourcentage_par_crenaux_result\n",
    "))\n",
    "print(res_array)"
   ]
  },
  {
   "cell_type": "code",
   "execution_count": 82,
   "metadata": {},
   "outputs": [
    {
     "name": "stdout",
     "output_type": "stream",
     "text": [
      "[['Angers' '8' '2' '2' '11' '15' '34' '-19' '17' '1.0' '2.27' '13.33'\n",
      "  '6.67' '13.33' '13.33' '26.67' '26.67']\n",
      " ['Strasbourg' '11' '1' '8' '6' '17' '26' '-9' '19' '1.13' '1.73' '13.33'\n",
      "  '20.0' '13.33' '13.33' '26.67' '26.67']\n",
      " ['Ajaccio' '12' '3' '3' '9' '14' '24' '-10' '23' '0.93' '1.6' '0.0'\n",
      "  '6.67' '33.33' '20.0' '20.0' '13.33']\n",
      " ['Auxerre' '13' '3' '4' '8' '14' '31' '-17' '23' '0.93' '2.07' '20.0'\n",
      "  '6.67' '13.33' '6.67' '20.0' '26.67']\n",
      " ['Brest' '13' '3' '4' '8' '16' '28' '-12' '26' '1.07' '1.87' '20.0'\n",
      "  '13.33' '6.67' '20.0' '33.33' '13.33']\n",
      " ['Nantes' '13' '2' '7' '6' '17' '24' '-7' '19' '1.13' '1.6' '6.67'\n",
      "  '6.67' '13.33' '20.0' '26.67' '40.0']\n",
      " ['Montpellier' '14' '4' '2' '9' '24' '29' '-5' '31' '1.6' '1.93' '53.33'\n",
      "  '26.67' '13.33' '6.67' '20.0' '40.0']\n",
      " ['Troyes' '14' '3' '5' '7' '26' '31' '-5' '23' '1.73' '2.07' '26.67'\n",
      "  '26.67' '20.0' '33.33' '13.33' '53.33']\n",
      " ['Toulouse' '16' '4' '4' '7' '20' '27' '-7' '31' '1.33' '1.8' '13.33'\n",
      "  '20.0' '40.0' '33.33' '20.0' '6.67']\n",
      " ['Reims' '17' '3' '8' '4' '16' '21' '-5' '28' '1.07' '1.4' '6.67'\n",
      "  '33.33' '6.67' '6.67' '13.33' '40.0']\n",
      " ['Clermont' '19' '5' '4' '6' '19' '23' '-4' '25' '1.27' '1.53' '20.0'\n",
      "  '0.0' '6.67' '40.0' '26.67' '33.33']\n",
      " ['Nice' '20' '5' '5' '5' '15' '17' '-2' '27' '1.0' '1.13' '6.67' '20.0'\n",
      "  '20.0' '20.0' '20.0' '13.33']\n",
      " ['Lyon' '21' '6' '3' '6' '23' '18' '5' '23' '1.53' '1.2' '20.0' '26.67'\n",
      "  '20.0' '20.0' '33.33' '33.33']\n",
      " ['Lille' '26' '8' '2' '5' '27' '23' '4' '24' '1.8' '1.53' '26.67'\n",
      "  '26.67' '46.67' '20.0' '26.67' '33.33']\n",
      " ['Monaco' '27' '8' '3' '4' '29' '21' '8' '26' '1.93' '1.4' '20.0'\n",
      "  '13.33' '46.67' '46.67' '46.67' '20.0']\n",
      " ['Lorient' '28' '8' '4' '3' '26' '21' '5' '19' '1.73' '1.4' '33.33'\n",
      "  '26.67' '33.33' '46.67' '13.33' '20.0']\n",
      " ['Marseille' '30' '9' '3' '3' '26' '13' '13' '20' '1.73' '0.87' '33.33'\n",
      "  '6.67' '53.33' '26.67' '20.0' '33.33']\n",
      " ['Rennes' '31' '9' '4' '2' '31' '14' '17' '24' '2.07' '0.93' '13.33'\n",
      "  '33.33' '20.0' '53.33' '20.0' '66.67']\n",
      " ['Lens' '36' '11' '3' '1' '26' '10' '16' '19' '1.73' '0.67' '6.67'\n",
      "  '26.67' '13.33' '33.33' '40.0' '53.33']\n",
      " ['PSG' '41' '13' '2' '0' '43' '9' '34' '36' '2.87' '0.6' '33.33' '46.67'\n",
      "  '46.67' '46.67' '33.33' '80.0']]\n"
     ]
    }
   ],
   "source": [
    "indices_tries = np.argsort(res_array[:, 1].astype(int))\n",
    "tableau_final_trie = np.take_along_axis(res_array, indices_tries[:, None], axis=0)\n",
    "print (tableau_final_trie)"
   ]
  },
  {
   "cell_type": "code",
   "execution_count": 83,
   "metadata": {},
   "outputs": [
    {
     "name": "stdout",
     "output_type": "stream",
     "text": [
      "[1.         0.7488618  0.68559765 0.65998435 0.57560625 0.34863263\n",
      " 0.72948822 0.5465462  0.58863101 0.58202707 0.77695089 0.29726958\n",
      " 0.69229701 0.82949216 0.33872302 0.41963911 0.35688414 0.69851616\n",
      " 0.9028354  0.53717859]\n",
      "[0.7488618  1.         0.95168838 0.8713942  0.74100191 0.41378164\n",
      " 0.61310212 0.40918437 0.69720785 0.37128844 0.53465961 0.66614288\n",
      " 0.87580579 0.6454164  0.28928997 0.61861745 0.37697388 0.91773626\n",
      " 0.60819876 0.73903003]\n",
      "[0.68559765 0.95168838 1.         0.84452431 0.70183548 0.36782228\n",
      " 0.65422624 0.41997131 0.69476886 0.43563124 0.45626405 0.79681177\n",
      " 0.82394042 0.64904568 0.3226779  0.68076776 0.34699818 0.89199448\n",
      " 0.57875324 0.74687044]\n",
      "[0.65998435 0.8713942  0.84452431 1.         0.76975442 0.42188238\n",
      " 0.55186255 0.50558489 0.73804113 0.29962437 0.62604872 0.6632901\n",
      " 0.72714554 0.75957512 0.26217347 0.54600902 0.32722477 0.87163326\n",
      " 0.67348051 0.60730876]\n",
      "[0.57560625 0.74100191 0.70183548 0.76975442 1.         0.66017086\n",
      " 0.5179566  0.62959641 0.69905452 0.50273859 0.68068769 0.53723359\n",
      " 0.8444976  0.62876477 0.53685771 0.47557267 0.69412983 0.70179156\n",
      " 0.54305374 0.7596311 ]\n",
      "[0.34863263 0.41378164 0.36782228 0.42188238 0.66017086 1.\n",
      " 0.58769994 0.48345477 0.8299094  0.48799074 0.59276358 0.34984547\n",
      " 0.73079759 0.58885131 0.85327468 0.64141488 0.8892084  0.59305796\n",
      " 0.28234231 0.63891989]\n",
      "[0.72948822 0.61310212 0.65422624 0.55186255 0.5179566  0.58769994\n",
      " 1.         0.76077913 0.84881948 0.87165446 0.78097504 0.64957716\n",
      " 0.64457629 0.76944798 0.76312659 0.57714147 0.59783589 0.72073428\n",
      " 0.75832011 0.72143978]\n",
      "[0.5465462  0.40918437 0.41997131 0.50558489 0.62959641 0.48345477\n",
      " 0.76077913 1.         0.64861987 0.74589489 0.76134732 0.49906562\n",
      " 0.43787589 0.68653536 0.65962237 0.34215631 0.65585317 0.50174088\n",
      " 0.76999907 0.69265246]\n",
      "[0.58863101 0.69720785 0.69476886 0.73804113 0.69905452 0.8299094\n",
      " 0.84881948 0.64861987 1.         0.62249905 0.72624613 0.71509732\n",
      " 0.80089521 0.79773752 0.80857295 0.76003924 0.74323654 0.86733794\n",
      " 0.59621635 0.78835252]\n",
      "[0.58202707 0.37128844 0.43563124 0.29962437 0.50273859 0.48799074\n",
      " 0.87165446 0.74589489 0.62249905 1.         0.77160572 0.46466703\n",
      " 0.48303218 0.53087821 0.73131665 0.23478129 0.54546958 0.40104325\n",
      " 0.61292722 0.55618282]\n",
      "[0.77695089 0.53465961 0.45626405 0.62604872 0.68068769 0.59276358\n",
      " 0.78097504 0.76134732 0.72624613 0.77160572 1.         0.29556456\n",
      " 0.59950383 0.76970229 0.59249489 0.22659744 0.53720964 0.57786081\n",
      " 0.81846252 0.49389513]\n",
      "[0.29726958 0.66614288 0.79681177 0.6632901  0.53723359 0.34984547\n",
      " 0.64957716 0.49906562 0.71509732 0.46466703 0.29556456 1.\n",
      " 0.5711461  0.45918539 0.50370004 0.66618634 0.40225933 0.73219754\n",
      " 0.37228554 0.76103276]\n",
      "[0.69229701 0.87580579 0.82394042 0.72714554 0.8444976  0.73079759\n",
      " 0.64457629 0.43787589 0.80089521 0.48303218 0.59950383 0.5711461\n",
      " 1.         0.66460301 0.59404911 0.72700336 0.70043261 0.8835304\n",
      " 0.50991663 0.83077487]\n",
      "[0.82949216 0.6454164  0.64904568 0.75957512 0.62876477 0.58885131\n",
      " 0.76944798 0.68653536 0.79773752 0.53087821 0.76970229 0.45918539\n",
      " 0.66460301 1.         0.55332614 0.66388259 0.55628469 0.7724022\n",
      " 0.87614274 0.61356371]\n",
      "[0.33872302 0.28928997 0.3226779  0.26217347 0.53685771 0.85327468\n",
      " 0.76312659 0.65962237 0.80857295 0.73131665 0.59249489 0.50370004\n",
      " 0.59404911 0.55332614 1.         0.6142632  0.90775729 0.50030491\n",
      " 0.38107393 0.73100613]\n",
      "[0.41963911 0.61861745 0.68076776 0.54600902 0.47557267 0.64141488\n",
      " 0.57714147 0.34215631 0.76003924 0.23478129 0.22659744 0.66618634\n",
      " 0.72700336 0.66388259 0.6142632  1.         0.65603709 0.8068586\n",
      " 0.36488633 0.78201015]\n",
      "[0.35688414 0.37697388 0.34699818 0.32722477 0.69412983 0.8892084\n",
      " 0.59783589 0.65585317 0.74323654 0.54546958 0.53720964 0.40225933\n",
      " 0.70043261 0.55628469 0.90775729 0.65603709 1.         0.54006524\n",
      " 0.36773751 0.81139439]\n",
      "[0.69851616 0.91773626 0.89199448 0.87163326 0.70179156 0.59305796\n",
      " 0.72073428 0.50174088 0.86733794 0.40104325 0.57786081 0.73219754\n",
      " 0.8835304  0.7724022  0.50030491 0.8068586  0.54006524 1.\n",
      " 0.63346401 0.81129647]\n",
      "[0.9028354  0.60819876 0.57875324 0.67348051 0.54305374 0.28234231\n",
      " 0.75832011 0.76999907 0.59621635 0.61292722 0.81846252 0.37228554\n",
      " 0.50991663 0.87614274 0.38107393 0.36488633 0.36773751 0.63346401\n",
      " 1.         0.54072744]\n",
      "[0.53717859 0.73903003 0.74687044 0.60730876 0.7596311  0.63891989\n",
      " 0.72143978 0.69265246 0.78835252 0.55618282 0.49389513 0.76103276\n",
      " 0.83077487 0.61356371 0.73100613 0.78201015 0.81139439 0.81129647\n",
      " 0.54072744 1.        ]\n"
     ]
    }
   ],
   "source": [
    "for i in np.corrcoef(np.double(res_array[:,1:])):\n",
    "    print(i)"
   ]
  },
  {
   "cell_type": "code",
   "execution_count": 84,
   "metadata": {},
   "outputs": [],
   "source": [
    "headers = \"Club,Points,Victoire Nuls,Defaite,ButsPour,ButsContre,Difference,HorsJeux,ButsParMatch,ButsEncaissesParMatch,PourcentageButsMarques_creneau,0-15,16-30,31-45,46-60,61-75,76-90\" \n",
    "\n",
    "np.savetxt('footballl_statiques_file.csv', tableau_final_trie, header=headers,delimiter=',', fmt='%s')"
   ]
  }
 ],
 "metadata": {
  "kernelspec": {
   "display_name": "Python 3",
   "language": "python",
   "name": "python3"
  },
  "language_info": {
   "codemirror_mode": {
    "name": "ipython",
    "version": 3
   },
   "file_extension": ".py",
   "mimetype": "text/x-python",
   "name": "python",
   "nbconvert_exporter": "python",
   "pygments_lexer": "ipython3",
   "version": "3.12.0"
  }
 },
 "nbformat": 4,
 "nbformat_minor": 2
}
